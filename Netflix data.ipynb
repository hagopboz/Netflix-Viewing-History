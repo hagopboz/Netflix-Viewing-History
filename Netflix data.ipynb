{
 "cells": [
  {
   "cell_type": "code",
   "execution_count": 1,
   "metadata": {},
   "outputs": [],
   "source": [
    "# import all packages and set plots to be embedded inline\n",
    "import numpy as np\n",
    "import pandas as pd\n",
    "import matplotlib.pyplot as plt\n",
    "import seaborn as sns\n",
    "\n",
    "%matplotlib inline"
   ]
  },
  {
   "cell_type": "code",
   "execution_count": 2,
   "metadata": {},
   "outputs": [],
   "source": [
    "#import data\n",
    "df_netflix = pd.read_csv('NetflixViewingHistory.csv')"
   ]
  },
  {
   "cell_type": "code",
   "execution_count": 3,
   "metadata": {},
   "outputs": [
    {
     "name": "stdout",
     "output_type": "stream",
     "text": [
      "<class 'pandas.core.frame.DataFrame'>\n",
      "RangeIndex: 4700 entries, 0 to 4699\n",
      "Data columns (total 2 columns):\n",
      " #   Column  Non-Null Count  Dtype \n",
      "---  ------  --------------  ----- \n",
      " 0   Title   4700 non-null   object\n",
      " 1   Date    4700 non-null   object\n",
      "dtypes: object(2)\n",
      "memory usage: 73.6+ KB\n"
     ]
    }
   ],
   "source": [
    "df_netflix.info()"
   ]
  },
  {
   "cell_type": "code",
   "execution_count": 4,
   "metadata": {},
   "outputs": [
    {
     "data": {
      "text/html": [
       "<div>\n",
       "<style scoped>\n",
       "    .dataframe tbody tr th:only-of-type {\n",
       "        vertical-align: middle;\n",
       "    }\n",
       "\n",
       "    .dataframe tbody tr th {\n",
       "        vertical-align: top;\n",
       "    }\n",
       "\n",
       "    .dataframe thead th {\n",
       "        text-align: right;\n",
       "    }\n",
       "</style>\n",
       "<table border=\"1\" class=\"dataframe\">\n",
       "  <thead>\n",
       "    <tr style=\"text-align: right;\">\n",
       "      <th></th>\n",
       "      <th>Title</th>\n",
       "      <th>Date</th>\n",
       "    </tr>\n",
       "  </thead>\n",
       "  <tbody>\n",
       "    <tr>\n",
       "      <th>0</th>\n",
       "      <td>How to Fix a Drug Scandal: Limited Series: Epi...</td>\n",
       "      <td>4/3/20</td>\n",
       "    </tr>\n",
       "    <tr>\n",
       "      <th>1</th>\n",
       "      <td>How to Fix a Drug Scandal: Limited Series: Epi...</td>\n",
       "      <td>4/3/20</td>\n",
       "    </tr>\n",
       "    <tr>\n",
       "      <th>2</th>\n",
       "      <td>How to Fix a Drug Scandal: Limited Series: Epi...</td>\n",
       "      <td>4/2/20</td>\n",
       "    </tr>\n",
       "    <tr>\n",
       "      <th>3</th>\n",
       "      <td>How to Fix a Drug Scandal: Limited Series: Epi...</td>\n",
       "      <td>4/2/20</td>\n",
       "    </tr>\n",
       "    <tr>\n",
       "      <th>4</th>\n",
       "      <td>Feel Good: Season 1: Episode 6</td>\n",
       "      <td>4/2/20</td>\n",
       "    </tr>\n",
       "  </tbody>\n",
       "</table>\n",
       "</div>"
      ],
      "text/plain": [
       "                                               Title    Date\n",
       "0  How to Fix a Drug Scandal: Limited Series: Epi...  4/3/20\n",
       "1  How to Fix a Drug Scandal: Limited Series: Epi...  4/3/20\n",
       "2  How to Fix a Drug Scandal: Limited Series: Epi...  4/2/20\n",
       "3  How to Fix a Drug Scandal: Limited Series: Epi...  4/2/20\n",
       "4                     Feel Good: Season 1: Episode 6  4/2/20"
      ]
     },
     "execution_count": 4,
     "metadata": {},
     "output_type": "execute_result"
    }
   ],
   "source": [
    "df_netflix.head()"
   ]
  },
  {
   "cell_type": "code",
   "execution_count": 5,
   "metadata": {},
   "outputs": [],
   "source": [
    "df_netflix['Date'] = pd.to_datetime(df_netflix['Date'])\n",
    "df_netflix['Year'], df_netflix['Month'] = df_netflix['Date'].dt.year, df_netflix['Date'].dt.month_name()\n",
    "df_netflix['Day'] = df_netflix['Date'].dt.day\n",
    "df_netflix['Day_of_week'] = df_netflix['Date'].dt.day_name()"
   ]
  },
  {
   "cell_type": "code",
   "execution_count": 6,
   "metadata": {},
   "outputs": [
    {
     "data": {
      "text/html": [
       "<div>\n",
       "<style scoped>\n",
       "    .dataframe tbody tr th:only-of-type {\n",
       "        vertical-align: middle;\n",
       "    }\n",
       "\n",
       "    .dataframe tbody tr th {\n",
       "        vertical-align: top;\n",
       "    }\n",
       "\n",
       "    .dataframe thead th {\n",
       "        text-align: right;\n",
       "    }\n",
       "</style>\n",
       "<table border=\"1\" class=\"dataframe\">\n",
       "  <thead>\n",
       "    <tr style=\"text-align: right;\">\n",
       "      <th></th>\n",
       "      <th>Title</th>\n",
       "      <th>Date</th>\n",
       "      <th>Year</th>\n",
       "      <th>Month</th>\n",
       "      <th>Day</th>\n",
       "      <th>Day_of_week</th>\n",
       "    </tr>\n",
       "  </thead>\n",
       "  <tbody>\n",
       "    <tr>\n",
       "      <th>0</th>\n",
       "      <td>How to Fix a Drug Scandal: Limited Series: Epi...</td>\n",
       "      <td>2020-04-03</td>\n",
       "      <td>2020</td>\n",
       "      <td>April</td>\n",
       "      <td>3</td>\n",
       "      <td>Friday</td>\n",
       "    </tr>\n",
       "    <tr>\n",
       "      <th>1</th>\n",
       "      <td>How to Fix a Drug Scandal: Limited Series: Epi...</td>\n",
       "      <td>2020-04-03</td>\n",
       "      <td>2020</td>\n",
       "      <td>April</td>\n",
       "      <td>3</td>\n",
       "      <td>Friday</td>\n",
       "    </tr>\n",
       "    <tr>\n",
       "      <th>2</th>\n",
       "      <td>How to Fix a Drug Scandal: Limited Series: Epi...</td>\n",
       "      <td>2020-04-02</td>\n",
       "      <td>2020</td>\n",
       "      <td>April</td>\n",
       "      <td>2</td>\n",
       "      <td>Thursday</td>\n",
       "    </tr>\n",
       "    <tr>\n",
       "      <th>3</th>\n",
       "      <td>How to Fix a Drug Scandal: Limited Series: Epi...</td>\n",
       "      <td>2020-04-02</td>\n",
       "      <td>2020</td>\n",
       "      <td>April</td>\n",
       "      <td>2</td>\n",
       "      <td>Thursday</td>\n",
       "    </tr>\n",
       "    <tr>\n",
       "      <th>4</th>\n",
       "      <td>Feel Good: Season 1: Episode 6</td>\n",
       "      <td>2020-04-02</td>\n",
       "      <td>2020</td>\n",
       "      <td>April</td>\n",
       "      <td>2</td>\n",
       "      <td>Thursday</td>\n",
       "    </tr>\n",
       "  </tbody>\n",
       "</table>\n",
       "</div>"
      ],
      "text/plain": [
       "                                               Title       Date  Year  Month  \\\n",
       "0  How to Fix a Drug Scandal: Limited Series: Epi... 2020-04-03  2020  April   \n",
       "1  How to Fix a Drug Scandal: Limited Series: Epi... 2020-04-03  2020  April   \n",
       "2  How to Fix a Drug Scandal: Limited Series: Epi... 2020-04-02  2020  April   \n",
       "3  How to Fix a Drug Scandal: Limited Series: Epi... 2020-04-02  2020  April   \n",
       "4                     Feel Good: Season 1: Episode 6 2020-04-02  2020  April   \n",
       "\n",
       "   Day Day_of_week  \n",
       "0    3      Friday  \n",
       "1    3      Friday  \n",
       "2    2    Thursday  \n",
       "3    2    Thursday  \n",
       "4    2    Thursday  "
      ]
     },
     "execution_count": 6,
     "metadata": {},
     "output_type": "execute_result"
    }
   ],
   "source": [
    "df_netflix.head()"
   ]
  },
  {
   "cell_type": "code",
   "execution_count": 7,
   "metadata": {},
   "outputs": [],
   "source": [
    "show_details = df_netflix.Title.str.split(\":\", expand = True, n = 2)\n",
    "df_netflix['show_name'] = show_details[0]\n",
    "df_netflix['season'] = show_details[1]\n",
    "df_netflix['episode_name'] = show_details[2]"
   ]
  },
  {
   "cell_type": "code",
   "execution_count": 8,
   "metadata": {},
   "outputs": [
    {
     "data": {
      "text/html": [
       "<div>\n",
       "<style scoped>\n",
       "    .dataframe tbody tr th:only-of-type {\n",
       "        vertical-align: middle;\n",
       "    }\n",
       "\n",
       "    .dataframe tbody tr th {\n",
       "        vertical-align: top;\n",
       "    }\n",
       "\n",
       "    .dataframe thead th {\n",
       "        text-align: right;\n",
       "    }\n",
       "</style>\n",
       "<table border=\"1\" class=\"dataframe\">\n",
       "  <thead>\n",
       "    <tr style=\"text-align: right;\">\n",
       "      <th></th>\n",
       "      <th>Title</th>\n",
       "      <th>Date</th>\n",
       "      <th>Year</th>\n",
       "      <th>Month</th>\n",
       "      <th>Day</th>\n",
       "      <th>Day_of_week</th>\n",
       "      <th>show_name</th>\n",
       "      <th>season</th>\n",
       "      <th>episode_name</th>\n",
       "    </tr>\n",
       "  </thead>\n",
       "  <tbody>\n",
       "    <tr>\n",
       "      <th>0</th>\n",
       "      <td>How to Fix a Drug Scandal: Limited Series: Epi...</td>\n",
       "      <td>2020-04-03</td>\n",
       "      <td>2020</td>\n",
       "      <td>April</td>\n",
       "      <td>3</td>\n",
       "      <td>Friday</td>\n",
       "      <td>How to Fix a Drug Scandal</td>\n",
       "      <td>Limited Series</td>\n",
       "      <td>Episode 4</td>\n",
       "    </tr>\n",
       "    <tr>\n",
       "      <th>1</th>\n",
       "      <td>How to Fix a Drug Scandal: Limited Series: Epi...</td>\n",
       "      <td>2020-04-03</td>\n",
       "      <td>2020</td>\n",
       "      <td>April</td>\n",
       "      <td>3</td>\n",
       "      <td>Friday</td>\n",
       "      <td>How to Fix a Drug Scandal</td>\n",
       "      <td>Limited Series</td>\n",
       "      <td>Episode 3</td>\n",
       "    </tr>\n",
       "    <tr>\n",
       "      <th>2</th>\n",
       "      <td>How to Fix a Drug Scandal: Limited Series: Epi...</td>\n",
       "      <td>2020-04-02</td>\n",
       "      <td>2020</td>\n",
       "      <td>April</td>\n",
       "      <td>2</td>\n",
       "      <td>Thursday</td>\n",
       "      <td>How to Fix a Drug Scandal</td>\n",
       "      <td>Limited Series</td>\n",
       "      <td>Episode 2</td>\n",
       "    </tr>\n",
       "    <tr>\n",
       "      <th>3</th>\n",
       "      <td>How to Fix a Drug Scandal: Limited Series: Epi...</td>\n",
       "      <td>2020-04-02</td>\n",
       "      <td>2020</td>\n",
       "      <td>April</td>\n",
       "      <td>2</td>\n",
       "      <td>Thursday</td>\n",
       "      <td>How to Fix a Drug Scandal</td>\n",
       "      <td>Limited Series</td>\n",
       "      <td>Episode 1</td>\n",
       "    </tr>\n",
       "    <tr>\n",
       "      <th>4</th>\n",
       "      <td>Feel Good: Season 1: Episode 6</td>\n",
       "      <td>2020-04-02</td>\n",
       "      <td>2020</td>\n",
       "      <td>April</td>\n",
       "      <td>2</td>\n",
       "      <td>Thursday</td>\n",
       "      <td>Feel Good</td>\n",
       "      <td>Season 1</td>\n",
       "      <td>Episode 6</td>\n",
       "    </tr>\n",
       "  </tbody>\n",
       "</table>\n",
       "</div>"
      ],
      "text/plain": [
       "                                               Title       Date  Year  Month  \\\n",
       "0  How to Fix a Drug Scandal: Limited Series: Epi... 2020-04-03  2020  April   \n",
       "1  How to Fix a Drug Scandal: Limited Series: Epi... 2020-04-03  2020  April   \n",
       "2  How to Fix a Drug Scandal: Limited Series: Epi... 2020-04-02  2020  April   \n",
       "3  How to Fix a Drug Scandal: Limited Series: Epi... 2020-04-02  2020  April   \n",
       "4                     Feel Good: Season 1: Episode 6 2020-04-02  2020  April   \n",
       "\n",
       "   Day Day_of_week                  show_name           season episode_name  \n",
       "0    3      Friday  How to Fix a Drug Scandal   Limited Series    Episode 4  \n",
       "1    3      Friday  How to Fix a Drug Scandal   Limited Series    Episode 3  \n",
       "2    2    Thursday  How to Fix a Drug Scandal   Limited Series    Episode 2  \n",
       "3    2    Thursday  How to Fix a Drug Scandal   Limited Series    Episode 1  \n",
       "4    2    Thursday                  Feel Good         Season 1    Episode 6  "
      ]
     },
     "execution_count": 8,
     "metadata": {},
     "output_type": "execute_result"
    }
   ],
   "source": [
    "df_netflix.head()"
   ]
  },
  {
   "cell_type": "code",
   "execution_count": 9,
   "metadata": {
    "scrolled": true
   },
   "outputs": [
    {
     "data": {
      "text/html": [
       "<div>\n",
       "<style scoped>\n",
       "    .dataframe tbody tr th:only-of-type {\n",
       "        vertical-align: middle;\n",
       "    }\n",
       "\n",
       "    .dataframe tbody tr th {\n",
       "        vertical-align: top;\n",
       "    }\n",
       "\n",
       "    .dataframe thead th {\n",
       "        text-align: right;\n",
       "    }\n",
       "</style>\n",
       "<table border=\"1\" class=\"dataframe\">\n",
       "  <thead>\n",
       "    <tr style=\"text-align: right;\">\n",
       "      <th></th>\n",
       "      <th>Title</th>\n",
       "      <th>Date</th>\n",
       "      <th>Year</th>\n",
       "      <th>Month</th>\n",
       "      <th>Day</th>\n",
       "      <th>Day_of_week</th>\n",
       "      <th>show_name</th>\n",
       "      <th>season</th>\n",
       "      <th>episode_name</th>\n",
       "      <th>show_type</th>\n",
       "    </tr>\n",
       "  </thead>\n",
       "  <tbody>\n",
       "    <tr>\n",
       "      <th>0</th>\n",
       "      <td>How to Fix a Drug Scandal: Limited Series: Epi...</td>\n",
       "      <td>2020-04-03</td>\n",
       "      <td>2020</td>\n",
       "      <td>April</td>\n",
       "      <td>3</td>\n",
       "      <td>Friday</td>\n",
       "      <td>How to Fix a Drug Scandal</td>\n",
       "      <td>Limited Series</td>\n",
       "      <td>Episode 4</td>\n",
       "      <td>TV Show</td>\n",
       "    </tr>\n",
       "    <tr>\n",
       "      <th>1</th>\n",
       "      <td>How to Fix a Drug Scandal: Limited Series: Epi...</td>\n",
       "      <td>2020-04-03</td>\n",
       "      <td>2020</td>\n",
       "      <td>April</td>\n",
       "      <td>3</td>\n",
       "      <td>Friday</td>\n",
       "      <td>How to Fix a Drug Scandal</td>\n",
       "      <td>Limited Series</td>\n",
       "      <td>Episode 3</td>\n",
       "      <td>TV Show</td>\n",
       "    </tr>\n",
       "    <tr>\n",
       "      <th>2</th>\n",
       "      <td>How to Fix a Drug Scandal: Limited Series: Epi...</td>\n",
       "      <td>2020-04-02</td>\n",
       "      <td>2020</td>\n",
       "      <td>April</td>\n",
       "      <td>2</td>\n",
       "      <td>Thursday</td>\n",
       "      <td>How to Fix a Drug Scandal</td>\n",
       "      <td>Limited Series</td>\n",
       "      <td>Episode 2</td>\n",
       "      <td>TV Show</td>\n",
       "    </tr>\n",
       "    <tr>\n",
       "      <th>3</th>\n",
       "      <td>How to Fix a Drug Scandal: Limited Series: Epi...</td>\n",
       "      <td>2020-04-02</td>\n",
       "      <td>2020</td>\n",
       "      <td>April</td>\n",
       "      <td>2</td>\n",
       "      <td>Thursday</td>\n",
       "      <td>How to Fix a Drug Scandal</td>\n",
       "      <td>Limited Series</td>\n",
       "      <td>Episode 1</td>\n",
       "      <td>TV Show</td>\n",
       "    </tr>\n",
       "    <tr>\n",
       "      <th>4</th>\n",
       "      <td>Feel Good: Season 1: Episode 6</td>\n",
       "      <td>2020-04-02</td>\n",
       "      <td>2020</td>\n",
       "      <td>April</td>\n",
       "      <td>2</td>\n",
       "      <td>Thursday</td>\n",
       "      <td>Feel Good</td>\n",
       "      <td>Season 1</td>\n",
       "      <td>Episode 6</td>\n",
       "      <td>TV Show</td>\n",
       "    </tr>\n",
       "    <tr>\n",
       "      <th>...</th>\n",
       "      <td>...</td>\n",
       "      <td>...</td>\n",
       "      <td>...</td>\n",
       "      <td>...</td>\n",
       "      <td>...</td>\n",
       "      <td>...</td>\n",
       "      <td>...</td>\n",
       "      <td>...</td>\n",
       "      <td>...</td>\n",
       "      <td>...</td>\n",
       "    </tr>\n",
       "    <tr>\n",
       "      <th>4695</th>\n",
       "      <td>Jane The Virgin: Season 1: Chapter Five</td>\n",
       "      <td>2016-04-12</td>\n",
       "      <td>2016</td>\n",
       "      <td>April</td>\n",
       "      <td>12</td>\n",
       "      <td>Tuesday</td>\n",
       "      <td>Jane The Virgin</td>\n",
       "      <td>Season 1</td>\n",
       "      <td>Chapter Five</td>\n",
       "      <td>TV Show</td>\n",
       "    </tr>\n",
       "    <tr>\n",
       "      <th>4696</th>\n",
       "      <td>Jane The Virgin: Season 1: Chapter Four</td>\n",
       "      <td>2016-04-11</td>\n",
       "      <td>2016</td>\n",
       "      <td>April</td>\n",
       "      <td>11</td>\n",
       "      <td>Monday</td>\n",
       "      <td>Jane The Virgin</td>\n",
       "      <td>Season 1</td>\n",
       "      <td>Chapter Four</td>\n",
       "      <td>TV Show</td>\n",
       "    </tr>\n",
       "    <tr>\n",
       "      <th>4697</th>\n",
       "      <td>Jane The Virgin: Season 1: Chapter Three</td>\n",
       "      <td>2016-04-11</td>\n",
       "      <td>2016</td>\n",
       "      <td>April</td>\n",
       "      <td>11</td>\n",
       "      <td>Monday</td>\n",
       "      <td>Jane The Virgin</td>\n",
       "      <td>Season 1</td>\n",
       "      <td>Chapter Three</td>\n",
       "      <td>TV Show</td>\n",
       "    </tr>\n",
       "    <tr>\n",
       "      <th>4698</th>\n",
       "      <td>Jane The Virgin: Season 1: Chapter Two</td>\n",
       "      <td>2016-04-11</td>\n",
       "      <td>2016</td>\n",
       "      <td>April</td>\n",
       "      <td>11</td>\n",
       "      <td>Monday</td>\n",
       "      <td>Jane The Virgin</td>\n",
       "      <td>Season 1</td>\n",
       "      <td>Chapter Two</td>\n",
       "      <td>TV Show</td>\n",
       "    </tr>\n",
       "    <tr>\n",
       "      <th>4699</th>\n",
       "      <td>Jane The Virgin: Season 1: Chapter One: Pilot</td>\n",
       "      <td>2016-04-10</td>\n",
       "      <td>2016</td>\n",
       "      <td>April</td>\n",
       "      <td>10</td>\n",
       "      <td>Sunday</td>\n",
       "      <td>Jane The Virgin</td>\n",
       "      <td>Season 1</td>\n",
       "      <td>Chapter One: Pilot</td>\n",
       "      <td>TV Show</td>\n",
       "    </tr>\n",
       "  </tbody>\n",
       "</table>\n",
       "<p>4700 rows × 10 columns</p>\n",
       "</div>"
      ],
      "text/plain": [
       "                                                  Title       Date  Year  \\\n",
       "0     How to Fix a Drug Scandal: Limited Series: Epi... 2020-04-03  2020   \n",
       "1     How to Fix a Drug Scandal: Limited Series: Epi... 2020-04-03  2020   \n",
       "2     How to Fix a Drug Scandal: Limited Series: Epi... 2020-04-02  2020   \n",
       "3     How to Fix a Drug Scandal: Limited Series: Epi... 2020-04-02  2020   \n",
       "4                        Feel Good: Season 1: Episode 6 2020-04-02  2020   \n",
       "...                                                 ...        ...   ...   \n",
       "4695            Jane The Virgin: Season 1: Chapter Five 2016-04-12  2016   \n",
       "4696            Jane The Virgin: Season 1: Chapter Four 2016-04-11  2016   \n",
       "4697           Jane The Virgin: Season 1: Chapter Three 2016-04-11  2016   \n",
       "4698             Jane The Virgin: Season 1: Chapter Two 2016-04-11  2016   \n",
       "4699      Jane The Virgin: Season 1: Chapter One: Pilot 2016-04-10  2016   \n",
       "\n",
       "      Month  Day Day_of_week                  show_name           season  \\\n",
       "0     April    3      Friday  How to Fix a Drug Scandal   Limited Series   \n",
       "1     April    3      Friday  How to Fix a Drug Scandal   Limited Series   \n",
       "2     April    2    Thursday  How to Fix a Drug Scandal   Limited Series   \n",
       "3     April    2    Thursday  How to Fix a Drug Scandal   Limited Series   \n",
       "4     April    2    Thursday                  Feel Good         Season 1   \n",
       "...     ...  ...         ...                        ...              ...   \n",
       "4695  April   12     Tuesday            Jane The Virgin         Season 1   \n",
       "4696  April   11      Monday            Jane The Virgin         Season 1   \n",
       "4697  April   11      Monday            Jane The Virgin         Season 1   \n",
       "4698  April   11      Monday            Jane The Virgin         Season 1   \n",
       "4699  April   10      Sunday            Jane The Virgin         Season 1   \n",
       "\n",
       "             episode_name show_type  \n",
       "0               Episode 4   TV Show  \n",
       "1               Episode 3   TV Show  \n",
       "2               Episode 2   TV Show  \n",
       "3               Episode 1   TV Show  \n",
       "4               Episode 6   TV Show  \n",
       "...                   ...       ...  \n",
       "4695         Chapter Five   TV Show  \n",
       "4696         Chapter Four   TV Show  \n",
       "4697        Chapter Three   TV Show  \n",
       "4698          Chapter Two   TV Show  \n",
       "4699   Chapter One: Pilot   TV Show  \n",
       "\n",
       "[4700 rows x 10 columns]"
      ]
     },
     "execution_count": 9,
     "metadata": {},
     "output_type": "execute_result"
    }
   ],
   "source": [
    "df_netflix['show_type'] = df_netflix.apply(lambda x:'Movie' if pd.isnull(x['season']) else 'TV Show', axis=1)\n",
    "df_netflix"
   ]
  },
  {
   "cell_type": "code",
   "execution_count": 10,
   "metadata": {},
   "outputs": [
    {
     "name": "stdout",
     "output_type": "stream",
     "text": [
      "<class 'pandas.core.frame.DataFrame'>\n",
      "RangeIndex: 4700 entries, 0 to 4699\n",
      "Data columns (total 10 columns):\n",
      " #   Column        Non-Null Count  Dtype         \n",
      "---  ------        --------------  -----         \n",
      " 0   Title         4700 non-null   object        \n",
      " 1   Date          4700 non-null   datetime64[ns]\n",
      " 2   Year          4700 non-null   int64         \n",
      " 3   Month         4700 non-null   object        \n",
      " 4   Day           4700 non-null   int64         \n",
      " 5   Day_of_week   4700 non-null   object        \n",
      " 6   show_name     4700 non-null   object        \n",
      " 7   season        4393 non-null   object        \n",
      " 8   episode_name  4315 non-null   object        \n",
      " 9   show_type     4700 non-null   object        \n",
      "dtypes: datetime64[ns](1), int64(2), object(7)\n",
      "memory usage: 367.3+ KB\n"
     ]
    }
   ],
   "source": [
    "df_netflix.info()"
   ]
  },
  {
   "cell_type": "code",
   "execution_count": 11,
   "metadata": {},
   "outputs": [
    {
     "data": {
      "text/html": [
       "<div>\n",
       "<style scoped>\n",
       "    .dataframe tbody tr th:only-of-type {\n",
       "        vertical-align: middle;\n",
       "    }\n",
       "\n",
       "    .dataframe tbody tr th {\n",
       "        vertical-align: top;\n",
       "    }\n",
       "\n",
       "    .dataframe thead th {\n",
       "        text-align: right;\n",
       "    }\n",
       "</style>\n",
       "<table border=\"1\" class=\"dataframe\">\n",
       "  <thead>\n",
       "    <tr style=\"text-align: right;\">\n",
       "      <th></th>\n",
       "      <th>Title</th>\n",
       "      <th>Date</th>\n",
       "      <th>Year</th>\n",
       "      <th>Month</th>\n",
       "      <th>Day</th>\n",
       "      <th>Day_of_week</th>\n",
       "      <th>show_name</th>\n",
       "      <th>season</th>\n",
       "      <th>episode_name</th>\n",
       "    </tr>\n",
       "    <tr>\n",
       "      <th>show_type</th>\n",
       "      <th></th>\n",
       "      <th></th>\n",
       "      <th></th>\n",
       "      <th></th>\n",
       "      <th></th>\n",
       "      <th></th>\n",
       "      <th></th>\n",
       "      <th></th>\n",
       "      <th></th>\n",
       "    </tr>\n",
       "  </thead>\n",
       "  <tbody>\n",
       "    <tr>\n",
       "      <th>Movie</th>\n",
       "      <td>307</td>\n",
       "      <td>307</td>\n",
       "      <td>307</td>\n",
       "      <td>307</td>\n",
       "      <td>307</td>\n",
       "      <td>307</td>\n",
       "      <td>307</td>\n",
       "      <td>0</td>\n",
       "      <td>0</td>\n",
       "    </tr>\n",
       "    <tr>\n",
       "      <th>TV Show</th>\n",
       "      <td>4393</td>\n",
       "      <td>4393</td>\n",
       "      <td>4393</td>\n",
       "      <td>4393</td>\n",
       "      <td>4393</td>\n",
       "      <td>4393</td>\n",
       "      <td>4393</td>\n",
       "      <td>4393</td>\n",
       "      <td>4315</td>\n",
       "    </tr>\n",
       "  </tbody>\n",
       "</table>\n",
       "</div>"
      ],
      "text/plain": [
       "           Title  Date  Year  Month   Day  Day_of_week  show_name  season  \\\n",
       "show_type                                                                   \n",
       "Movie        307   307   307    307   307          307        307       0   \n",
       "TV Show     4393  4393  4393   4393  4393         4393       4393    4393   \n",
       "\n",
       "           episode_name  \n",
       "show_type                \n",
       "Movie                 0  \n",
       "TV Show            4315  "
      ]
     },
     "execution_count": 11,
     "metadata": {},
     "output_type": "execute_result"
    }
   ],
   "source": [
    "test = df_netflix.groupby('show_type')\n",
    "test.count()"
   ]
  },
  {
   "cell_type": "code",
   "execution_count": 12,
   "metadata": {},
   "outputs": [
    {
     "data": {
      "text/html": [
       "<div>\n",
       "<style scoped>\n",
       "    .dataframe tbody tr th:only-of-type {\n",
       "        vertical-align: middle;\n",
       "    }\n",
       "\n",
       "    .dataframe tbody tr th {\n",
       "        vertical-align: top;\n",
       "    }\n",
       "\n",
       "    .dataframe thead th {\n",
       "        text-align: right;\n",
       "    }\n",
       "</style>\n",
       "<table border=\"1\" class=\"dataframe\">\n",
       "  <thead>\n",
       "    <tr style=\"text-align: right;\">\n",
       "      <th></th>\n",
       "      <th>Title</th>\n",
       "      <th>Date</th>\n",
       "      <th>Year</th>\n",
       "      <th>Month</th>\n",
       "      <th>Day</th>\n",
       "      <th>Day_of_week</th>\n",
       "      <th>show_name</th>\n",
       "      <th>season</th>\n",
       "      <th>episode_name</th>\n",
       "      <th>show_type</th>\n",
       "    </tr>\n",
       "  </thead>\n",
       "  <tbody>\n",
       "    <tr>\n",
       "      <th>0</th>\n",
       "      <td>How to Fix a Drug Scandal: Limited Series: Epi...</td>\n",
       "      <td>2020-04-03</td>\n",
       "      <td>2020</td>\n",
       "      <td>April</td>\n",
       "      <td>3</td>\n",
       "      <td>Friday</td>\n",
       "      <td>How to Fix a Drug Scandal</td>\n",
       "      <td>Limited Series</td>\n",
       "      <td>Episode 4</td>\n",
       "      <td>TV Show</td>\n",
       "    </tr>\n",
       "    <tr>\n",
       "      <th>1</th>\n",
       "      <td>How to Fix a Drug Scandal: Limited Series: Epi...</td>\n",
       "      <td>2020-04-03</td>\n",
       "      <td>2020</td>\n",
       "      <td>April</td>\n",
       "      <td>3</td>\n",
       "      <td>Friday</td>\n",
       "      <td>How to Fix a Drug Scandal</td>\n",
       "      <td>Limited Series</td>\n",
       "      <td>Episode 3</td>\n",
       "      <td>TV Show</td>\n",
       "    </tr>\n",
       "    <tr>\n",
       "      <th>2</th>\n",
       "      <td>How to Fix a Drug Scandal: Limited Series: Epi...</td>\n",
       "      <td>2020-04-02</td>\n",
       "      <td>2020</td>\n",
       "      <td>April</td>\n",
       "      <td>2</td>\n",
       "      <td>Thursday</td>\n",
       "      <td>How to Fix a Drug Scandal</td>\n",
       "      <td>Limited Series</td>\n",
       "      <td>Episode 2</td>\n",
       "      <td>TV Show</td>\n",
       "    </tr>\n",
       "    <tr>\n",
       "      <th>3</th>\n",
       "      <td>How to Fix a Drug Scandal: Limited Series: Epi...</td>\n",
       "      <td>2020-04-02</td>\n",
       "      <td>2020</td>\n",
       "      <td>April</td>\n",
       "      <td>2</td>\n",
       "      <td>Thursday</td>\n",
       "      <td>How to Fix a Drug Scandal</td>\n",
       "      <td>Limited Series</td>\n",
       "      <td>Episode 1</td>\n",
       "      <td>TV Show</td>\n",
       "    </tr>\n",
       "    <tr>\n",
       "      <th>4</th>\n",
       "      <td>Feel Good: Season 1: Episode 6</td>\n",
       "      <td>2020-04-02</td>\n",
       "      <td>2020</td>\n",
       "      <td>April</td>\n",
       "      <td>2</td>\n",
       "      <td>Thursday</td>\n",
       "      <td>Feel Good</td>\n",
       "      <td>Season 1</td>\n",
       "      <td>Episode 6</td>\n",
       "      <td>TV Show</td>\n",
       "    </tr>\n",
       "  </tbody>\n",
       "</table>\n",
       "</div>"
      ],
      "text/plain": [
       "                                               Title       Date  Year  Month  \\\n",
       "0  How to Fix a Drug Scandal: Limited Series: Epi... 2020-04-03  2020  April   \n",
       "1  How to Fix a Drug Scandal: Limited Series: Epi... 2020-04-03  2020  April   \n",
       "2  How to Fix a Drug Scandal: Limited Series: Epi... 2020-04-02  2020  April   \n",
       "3  How to Fix a Drug Scandal: Limited Series: Epi... 2020-04-02  2020  April   \n",
       "4                     Feel Good: Season 1: Episode 6 2020-04-02  2020  April   \n",
       "\n",
       "   Day Day_of_week                  show_name           season episode_name  \\\n",
       "0    3      Friday  How to Fix a Drug Scandal   Limited Series    Episode 4   \n",
       "1    3      Friday  How to Fix a Drug Scandal   Limited Series    Episode 3   \n",
       "2    2    Thursday  How to Fix a Drug Scandal   Limited Series    Episode 2   \n",
       "3    2    Thursday  How to Fix a Drug Scandal   Limited Series    Episode 1   \n",
       "4    2    Thursday                  Feel Good         Season 1    Episode 6   \n",
       "\n",
       "  show_type  \n",
       "0   TV Show  \n",
       "1   TV Show  \n",
       "2   TV Show  \n",
       "3   TV Show  \n",
       "4   TV Show  "
      ]
     },
     "execution_count": 12,
     "metadata": {},
     "output_type": "execute_result"
    }
   ],
   "source": [
    "df_netflix.head()"
   ]
  },
  {
   "cell_type": "code",
   "execution_count": 13,
   "metadata": {},
   "outputs": [
    {
     "data": {
      "image/png": "[encoded data removed]",
      "text/plain": [
       "<Figure size 1080x720 with 1 Axes>"
      ]
     },
     "metadata": {
      "needs_background": "light"
     },
     "output_type": "display_data"
    }
   ],
   "source": [
    "plt.figure(figsize=(15,10))\n",
    "plt.title(\"My Viewing Distribution\")\n",
    "ax = sns.distplot(df_netflix['Day'],bins=31,color=\"blue\",hist=True)"
   ]
  },
  {
   "cell_type": "code",
   "execution_count": 14,
   "metadata": {},
   "outputs": [
    {
     "data": {
      "image/png": "[encoded data removed]",
      "text/plain": [
       "<Figure size 1440x720 with 1 Axes>"
      ]
     },
     "metadata": {
      "needs_background": "light"
     },
     "output_type": "display_data"
    }
   ],
   "source": [
    "plt.figure(figsize=(20,10))\n",
    "ax = sns.barplot(x=df_netflix[\"Day_of_week\"].value_counts().index, y=df_netflix[\"Day_of_week\"].value_counts(),alpha=0.7)\n",
    "plt.title(\"My Days\")\n",
    "plt.xlabel(\"Day of the Week\")\n",
    "plt.ylabel(\"Frequency\")\n",
    "plt.show();"
   ]
  },
  {
   "cell_type": "code",
   "execution_count": 15,
   "metadata": {},
   "outputs": [
    {
     "data": {
      "image/png": "[encoded data removed]",
      "text/plain": [
       "<Figure size 1080x720 with 1 Axes>"
      ]
     },
     "metadata": {
      "needs_background": "light"
     },
     "output_type": "display_data"
    }
   ],
   "source": [
    "by_year = df_netflix.groupby('Month')['Year'].value_counts().sort_values(ascending=False).reset_index(name='Frequency')\n",
    "month_order = ['January', 'February', 'March', 'April', 'May', 'June', 'July', 'August', 'September', 'October', 'November', 'December']\n",
    "plt.figure(figsize=(15,10))\n",
    "ax = sns.barplot(x=by_year[\"Month\"], y=by_year[\"Frequency\"],order=month_order, hue=by_year[\"Year\"],alpha=0.7)\n",
    "plt.title(\"Most watched Month for Me\")\n",
    "plt.legend(bbox_to_anchor=(1.05, 1), loc=2, borderaxespad=0.)\n",
    "plt.show();"
   ]
  },
  {
   "cell_type": "code",
   "execution_count": 16,
   "metadata": {},
   "outputs": [
    {
     "data": {
      "image/png": "[encoded data removed]",
      "text/plain": [
       "<Figure size 1080x720 with 1 Axes>"
      ]
     },
     "metadata": {
      "needs_background": "light"
     },
     "output_type": "display_data"
    }
   ],
   "source": [
    "by_month = df_netflix.groupby('Month')['Year'].value_counts().sort_values(ascending=False).reset_index(name='Frequency')\n",
    "month_order = ['January', 'February', 'March', 'April', 'May', 'June', 'July', 'August', 'September', 'October', 'November', 'December']\n",
    "plt.figure(figsize=(15,10))\n",
    "ax = sns.barplot(x=by_month[\"Year\"], y=by_month[\"Frequency\"], hue=by_month[\"Month\"], hue_order=month_order,alpha=0.7)\n",
    "plt.title(\"Most watched Year for Me\")\n",
    "plt.legend(bbox_to_anchor=(1.05, 1), loc=2, borderaxespad=0.)\n",
    "plt.show();"
   ]
  },
  {
   "cell_type": "code",
   "execution_count": 17,
   "metadata": {},
   "outputs": [
    {
     "data": {
      "image/png": "[encoded data removed]",
      "text/plain": [
       "<Figure size 1080x720 with 1 Axes>"
      ]
     },
     "metadata": {
      "needs_background": "light"
     },
     "output_type": "display_data"
    }
   ],
   "source": [
    "show_freq = df_netflix.groupby('show_type')['Day_of_week'].value_counts().sort_values(ascending=False).reset_index(name='Count')\n",
    "plt.figure(figsize=(15,10))\n",
    "ax = sns.barplot(x=show_freq[\"Day_of_week\"], y=show_freq[\"Count\"], hue=show_freq[\"show_type\"],alpha=0.7)\n",
    "plt.title(\"What do i prefer? Movies or Television?\")\n",
    "plt.legend(bbox_to_anchor=(1.05, 1), loc=2, borderaxespad=0.)\n",
    "plt.show();"
   ]
  },
  {
   "cell_type": "code",
   "execution_count": 18,
   "metadata": {
    "scrolled": false
   },
   "outputs": [
    {
     "data": {
      "image/png": "[encoded data removed]",
      "text/plain": [
       "<Figure size 1080x720 with 1 Axes>"
      ]
     },
     "metadata": {
      "needs_background": "light"
     },
     "output_type": "display_data"
    }
   ],
   "source": [
    "plt.figure(figsize=(15,10))\n",
    "ax = sns.barplot(x=df_netflix['show_name'].sort_values(ascending=True).value_counts().index[:25], \n",
    "                 y=df_netflix[\"show_name\"].sort_values(ascending=True).value_counts()[:25],\n",
    "                 palette=\"gist_earth_r\")\n",
    "plt.title(\"Shows with most time spent\")\n",
    "plt.xlabel(\"Name of Show\")\n",
    "plt.ylabel(\"Frequency of Watching\")\n",
    "loc, labels = plt.xticks()\n",
    "ax.set_xticklabels(labels, rotation=90)\n",
    "plt.show();"
   ]
  }
 ],
 "metadata": {
  "kernelspec": {
   "display_name": "Python 3",
   "language": "python",
   "name": "python3"
  },
  "language_info": {
   "codemirror_mode": {
    "name": "ipython",
    "version": 3
   },
   "file_extension": ".py",
   "mimetype": "text/x-python",
   "name": "python",
   "nbconvert_exporter": "python",
   "pygments_lexer": "ipython3",
   "version": "3.7.4"
  }
 },
 "nbformat": 4,
 "nbformat_minor": 2
}
